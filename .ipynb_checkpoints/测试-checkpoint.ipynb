{
 "cells": [
  {
   "cell_type": "code",
   "execution_count": 1,
   "metadata": {},
   "outputs": [],
   "source": [
    "from sklearn import datasets\n",
    "import pandas as pd\n",
    "import numpy as np\n",
    "import  matplotlib.pyplot as plt\n",
    "from sklearn import preprocessing\n",
    "from sklearn.cluster import AgglomerativeClustering"
   ]
  },
  {
   "cell_type": "code",
   "execution_count": 2,
   "metadata": {},
   "outputs": [],
   "source": [
    "iris = datasets.load_iris()\n",
    "iris_data = iris.data"
   ]
  },
  {
   "cell_type": "code",
   "execution_count": 14,
   "metadata": {
    "scrolled": true
   },
   "outputs": [
    {
     "name": "stdout",
     "output_type": "stream",
     "text": [
      "[[0.57142857 0.44444444]\n",
      " [0.33333333 0.44444444]\n",
      " [0.42857143 0.33333333]\n",
      " [0.38095238 0.55555556]\n",
      " [0.61904762 0.44444444]\n",
      " [0.76190476 0.77777778]\n",
      " [0.52380952 0.44444444]\n",
      " [0.52380952 0.55555556]\n",
      " [0.28571429 0.44444444]\n",
      " [0.38095238 0.55555556]\n",
      " [0.66666667 0.55555556]\n",
      " [0.52380952 0.66666667]\n",
      " [0.33333333 0.44444444]\n",
      " [0.33333333 0.11111111]\n",
      " [0.80952381 0.22222222]\n",
      " [1.         0.55555556]\n",
      " [0.76190476 0.33333333]\n",
      " [0.57142857 0.44444444]\n",
      " [0.71428571 0.77777778]\n",
      " [0.71428571 0.55555556]\n",
      " [0.52380952 0.77777778]\n",
      " [0.66666667 0.55555556]\n",
      " [0.61904762 0.        ]\n",
      " [0.47619048 0.77777778]\n",
      " [0.52380952 1.        ]\n",
      " [0.33333333 0.66666667]\n",
      " [0.52380952 0.66666667]\n",
      " [0.57142857 0.55555556]\n",
      " [0.52380952 0.44444444]\n",
      " [0.42857143 0.66666667]\n",
      " [0.38095238 0.66666667]\n",
      " [0.52380952 0.55555556]\n",
      " [0.85714286 0.55555556]\n",
      " [0.9047619  0.44444444]\n",
      " [0.38095238 0.55555556]\n",
      " [0.42857143 0.22222222]\n",
      " [0.57142857 0.33333333]\n",
      " [0.61904762 0.44444444]\n",
      " [0.33333333 0.33333333]\n",
      " [0.52380952 0.55555556]\n",
      " [0.57142857 0.33333333]\n",
      " [0.         0.33333333]\n",
      " [0.42857143 0.33333333]\n",
      " [0.57142857 0.66666667]\n",
      " [0.71428571 1.        ]\n",
      " [0.33333333 0.44444444]\n",
      " [0.71428571 0.66666667]\n",
      " [0.42857143 0.44444444]\n",
      " [0.66666667 0.55555556]\n",
      " [0.47619048 0.44444444]] 50\n"
     ]
    }
   ],
   "source": [
    "#数据预处理\n",
    "data = np.array(iris_data[:50,1:-1]) # 取矩阵中间两列的参数值，前五十行\n",
    "# 归一化处理\n",
    "min_max_scaler = preprocessing.MinMaxScaler()\n",
    "data_M = min_max_scaler.fit_transform(data)\n",
    "print(data_M, len(data_M))"
   ]
  },
  {
   "cell_type": "code",
   "execution_count": 15,
   "metadata": {},
   "outputs": [
    {
     "data": {
      "image/png": "[encoded data removed]",
      "text/plain": [
       "<Figure size 1440x432 with 1 Axes>"
      ]
     },
     "metadata": {
      "needs_background": "light"
     },
     "output_type": "display_data"
    }
   ],
   "source": [
    "from scipy.cluster.hierarchy import linkage, dendrogram\n",
    "%matplotlib inline\n",
    "\n",
    "#绘制树状图\n",
    "plt.figure(figsize=(20,6))\n",
    "Z = linkage(data_M, method='ward', metric='euclidean')\n",
    "p = dendrogram(Z, 0)\n",
    "plt.show()"
   ]
  },
  {
   "cell_type": "code",
   "execution_count": 18,
   "metadata": {},
   "outputs": [
    {
     "name": "stdout",
     "output_type": "stream",
     "text": [
      "[0 1 1 1 0 2 0 0 1 1 0 2 1 1 0 0 0 0 2 0 2 0 0 2 2 1 2 0 0 1 1 0 0 0 1 1 0\n",
      " 0 1 0 0 1 1 2 2 1 2 1 0 1]\n"
     ]
    }
   ],
   "source": [
    "ac = AgglomerativeClustering(n_clusters=3, affinity='euclidean', linkage='ward')\n",
    "ac.fit(data_M)\n",
    "\n",
    "AgglomerativeClustering(affinity='euclidean', compute_full_tree='auto',\n",
    "            connectivity=None, linkage='ward', memory=None, n_clusters=3,\n",
    "            )\n",
    "\n",
    "#聚类\n",
    "labels = ac.fit_predict(data_M)\n",
    "print(labels)"
   ]
  },
  {
   "cell_type": "code",
   "execution_count": 1,
   "metadata": {},
   "outputs": [
    {
     "data": {
      "text/html": [
       "<div>\n",
       "<style scoped>\n",
       "    .dataframe tbody tr th:only-of-type {\n",
       "        vertical-align: middle;\n",
       "    }\n",
       "\n",
       "    .dataframe tbody tr th {\n",
       "        vertical-align: top;\n",
       "    }\n",
       "\n",
       "    .dataframe thead th {\n",
       "        text-align: right;\n",
       "    }\n",
       "</style>\n",
       "<table border=\"1\" class=\"dataframe\">\n",
       "  <thead>\n",
       "    <tr style=\"text-align: right;\">\n",
       "      <th></th>\n",
       "      <th>alpha</th>\n",
       "      <th>feature1</th>\n",
       "      <th>feature2</th>\n",
       "      <th>pazham</th>\n",
       "      <th>kilo</th>\n",
       "      <th>price</th>\n",
       "    </tr>\n",
       "  </thead>\n",
       "  <tbody>\n",
       "    <tr>\n",
       "      <th>0</th>\n",
       "      <td>A</td>\n",
       "      <td>1</td>\n",
       "      <td>low</td>\n",
       "      <td>apple</td>\n",
       "      <td>high</td>\n",
       "      <td>5</td>\n",
       "    </tr>\n",
       "    <tr>\n",
       "      <th>1</th>\n",
       "      <td>A</td>\n",
       "      <td>1</td>\n",
       "      <td>low</td>\n",
       "      <td>orange</td>\n",
       "      <td>low</td>\n",
       "      <td>6</td>\n",
       "    </tr>\n",
       "    <tr>\n",
       "      <th>2</th>\n",
       "      <td>B</td>\n",
       "      <td>1</td>\n",
       "      <td>medium</td>\n",
       "      <td>pine</td>\n",
       "      <td>high</td>\n",
       "      <td>5</td>\n",
       "    </tr>\n",
       "    <tr>\n",
       "      <th>3</th>\n",
       "      <td>B</td>\n",
       "      <td>2</td>\n",
       "      <td>medium</td>\n",
       "      <td>pine</td>\n",
       "      <td>high</td>\n",
       "      <td>5</td>\n",
       "    </tr>\n",
       "  </tbody>\n",
       "</table>\n",
       "</div>"
      ],
      "text/plain": [
       "  alpha  feature1 feature2  pazham  kilo  price\n",
       "0     A         1      low   apple  high      5\n",
       "1     A         1      low  orange   low      6\n",
       "2     B         1   medium    pine  high      5\n",
       "3     B         2   medium    pine  high      5"
      ]
     },
     "execution_count": 1,
     "metadata": {},
     "output_type": "execute_result"
    }
   ],
   "source": [
    "import pandas as pd\n",
    "import numpy as np\n",
    "df1 = pd.DataFrame({'alpha':['A','B','B','C','D','E'],'feature1':[1,1,2,3,3,1],\n",
    "            'feature2':['low','medium','medium','high','low','high']})\n",
    "# 定义df2\n",
    "df2 = pd.DataFrame({'alpha':['A','A','B','F'],'pazham':['apple','orange','pine','pear'],\n",
    "            'kilo':['high','low','high','medium'],'price':np.array([5,6,5,7])})\n",
    "# print(df1)\n",
    "# print(df2)\n",
    "# 基于共同列alpha的内连接\n",
    "df3 = pd.merge(df1,df2,how='inner',on='alpha')\n",
    "df3"
   ]
  },
  {
   "cell_type": "code",
   "execution_count": 2,
   "metadata": {},
   "outputs": [
    {
     "data": {
      "text/html": [
       "<div>\n",
       "<style scoped>\n",
       "    .dataframe tbody tr th:only-of-type {\n",
       "        vertical-align: middle;\n",
       "    }\n",
       "\n",
       "    .dataframe tbody tr th {\n",
       "        vertical-align: top;\n",
       "    }\n",
       "\n",
       "    .dataframe thead th {\n",
       "        text-align: right;\n",
       "    }\n",
       "</style>\n",
       "<table border=\"1\" class=\"dataframe\">\n",
       "  <thead>\n",
       "    <tr style=\"text-align: right;\">\n",
       "      <th></th>\n",
       "      <th>alpha</th>\n",
       "      <th>feature1</th>\n",
       "      <th>feature2</th>\n",
       "    </tr>\n",
       "  </thead>\n",
       "  <tbody>\n",
       "    <tr>\n",
       "      <th>0</th>\n",
       "      <td>A</td>\n",
       "      <td>1</td>\n",
       "      <td>low</td>\n",
       "    </tr>\n",
       "    <tr>\n",
       "      <th>1</th>\n",
       "      <td>B</td>\n",
       "      <td>1</td>\n",
       "      <td>medium</td>\n",
       "    </tr>\n",
       "    <tr>\n",
       "      <th>2</th>\n",
       "      <td>B</td>\n",
       "      <td>2</td>\n",
       "      <td>medium</td>\n",
       "    </tr>\n",
       "    <tr>\n",
       "      <th>3</th>\n",
       "      <td>C</td>\n",
       "      <td>3</td>\n",
       "      <td>high</td>\n",
       "    </tr>\n",
       "    <tr>\n",
       "      <th>4</th>\n",
       "      <td>D</td>\n",
       "      <td>3</td>\n",
       "      <td>low</td>\n",
       "    </tr>\n",
       "    <tr>\n",
       "      <th>5</th>\n",
       "      <td>E</td>\n",
       "      <td>1</td>\n",
       "      <td>high</td>\n",
       "    </tr>\n",
       "  </tbody>\n",
       "</table>\n",
       "</div>"
      ],
      "text/plain": [
       "  alpha  feature1 feature2\n",
       "0     A         1      low\n",
       "1     B         1   medium\n",
       "2     B         2   medium\n",
       "3     C         3     high\n",
       "4     D         3      low\n",
       "5     E         1     high"
      ]
     },
     "execution_count": 2,
     "metadata": {},
     "output_type": "execute_result"
    }
   ],
   "source": [
    "df1"
   ]
  },
  {
   "cell_type": "code",
   "execution_count": 3,
   "metadata": {},
   "outputs": [
    {
     "data": {
      "text/html": [
       "<div>\n",
       "<style scoped>\n",
       "    .dataframe tbody tr th:only-of-type {\n",
       "        vertical-align: middle;\n",
       "    }\n",
       "\n",
       "    .dataframe tbody tr th {\n",
       "        vertical-align: top;\n",
       "    }\n",
       "\n",
       "    .dataframe thead th {\n",
       "        text-align: right;\n",
       "    }\n",
       "</style>\n",
       "<table border=\"1\" class=\"dataframe\">\n",
       "  <thead>\n",
       "    <tr style=\"text-align: right;\">\n",
       "      <th></th>\n",
       "      <th>alpha</th>\n",
       "      <th>pazham</th>\n",
       "      <th>kilo</th>\n",
       "      <th>price</th>\n",
       "    </tr>\n",
       "  </thead>\n",
       "  <tbody>\n",
       "    <tr>\n",
       "      <th>0</th>\n",
       "      <td>A</td>\n",
       "      <td>apple</td>\n",
       "      <td>high</td>\n",
       "      <td>5</td>\n",
       "    </tr>\n",
       "    <tr>\n",
       "      <th>1</th>\n",
       "      <td>A</td>\n",
       "      <td>orange</td>\n",
       "      <td>low</td>\n",
       "      <td>6</td>\n",
       "    </tr>\n",
       "    <tr>\n",
       "      <th>2</th>\n",
       "      <td>B</td>\n",
       "      <td>pine</td>\n",
       "      <td>high</td>\n",
       "      <td>5</td>\n",
       "    </tr>\n",
       "    <tr>\n",
       "      <th>3</th>\n",
       "      <td>F</td>\n",
       "      <td>pear</td>\n",
       "      <td>medium</td>\n",
       "      <td>7</td>\n",
       "    </tr>\n",
       "  </tbody>\n",
       "</table>\n",
       "</div>"
      ],
      "text/plain": [
       "  alpha  pazham    kilo  price\n",
       "0     A   apple    high      5\n",
       "1     A  orange     low      6\n",
       "2     B    pine    high      5\n",
       "3     F    pear  medium      7"
      ]
     },
     "execution_count": 3,
     "metadata": {},
     "output_type": "execute_result"
    }
   ],
   "source": [
    "df2"
   ]
  }
 ],
 "metadata": {
  "kernelspec": {
   "display_name": "Python 3",
   "language": "python",
   "name": "python3"
  },
  "language_info": {
   "codemirror_mode": {
    "name": "ipython",
    "version": 3
   },
   "file_extension": ".py",
   "mimetype": "text/x-python",
   "name": "python",
   "nbconvert_exporter": "python",
   "pygments_lexer": "ipython3",
   "version": "3.8.5"
  }
 },
 "nbformat": 4,
 "nbformat_minor": 4
}
